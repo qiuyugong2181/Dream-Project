{
  "nbformat": 4,
  "nbformat_minor": 0,
  "metadata": {
    "colab": {
      "name": "genomic_project.ipynb",
      "provenance": [],
      "collapsed_sections": [],
      "include_colab_link": true
    },
    "kernelspec": {
      "name": "python3",
      "display_name": "Python 3"
    },
    "accelerator": "GPU"
  },
  "cells": [
    {
      "cell_type": "markdown",
      "metadata": {
        "id": "view-in-github",
        "colab_type": "text"
      },
      "source": [
        "<a href=\"https://colab.research.google.com/github/ChenxiCui97/Dream-Project/blob/master/Random_Forest.ipynb\" target=\"_parent\"><img src=\"https://colab.research.google.com/assets/colab-badge.svg\" alt=\"Open In Colab\"/></a>"
      ]
    },
    {
      "cell_type": "code",
      "metadata": {
        "id": "zBQD33shYJOk",
        "colab_type": "code",
        "cellView": "both",
        "outputId": "114f1e4f-4a9d-4426-92de-872d9f5f67fe",
        "colab": {
          "base_uri": "https://localhost:8080/",
          "height": 397
        }
      },
      "source": [
        "#@title Install prerequsite\n",
        "\n",
        "\n",
        "!pip install Biopython"
      ],
      "execution_count": 0,
      "outputs": [
        {
          "output_type": "stream",
          "text": [
            "Collecting lifelines\n",
            "\u001b[?25l  Downloading https://files.pythonhosted.org/packages/49/ea/fa61fc95591f66e2515e352e24aff78f15c5bcf33a948b7b7896b2c314e2/lifelines-0.23.3-py2.py3-none-any.whl (385kB)\n",
            "\r\u001b[K     |▉                               | 10kB 25.7MB/s eta 0:00:01\r\u001b[K     |█▊                              | 20kB 3.0MB/s eta 0:00:01\r\u001b[K     |██▌                             | 30kB 4.4MB/s eta 0:00:01\r\u001b[K     |███▍                            | 40kB 2.8MB/s eta 0:00:01\r\u001b[K     |████▎                           | 51kB 3.5MB/s eta 0:00:01\r\u001b[K     |█████                           | 61kB 4.2MB/s eta 0:00:01\r\u001b[K     |██████                          | 71kB 4.8MB/s eta 0:00:01\r\u001b[K     |██████▉                         | 81kB 5.4MB/s eta 0:00:01\r\u001b[K     |███████▋                        | 92kB 6.1MB/s eta 0:00:01\r\u001b[K     |████████▌                       | 102kB 4.6MB/s eta 0:00:01\r\u001b[K     |█████████▍                      | 112kB 4.6MB/s eta 0:00:01\r\u001b[K     |██████████▏                     | 122kB 4.6MB/s eta 0:00:01\r\u001b[K     |███████████                     | 133kB 4.6MB/s eta 0:00:01\r\u001b[K     |████████████                    | 143kB 4.6MB/s eta 0:00:01\r\u001b[K     |████████████▊                   | 153kB 4.6MB/s eta 0:00:01\r\u001b[K     |█████████████▋                  | 163kB 4.6MB/s eta 0:00:01\r\u001b[K     |██████████████▍                 | 174kB 4.6MB/s eta 0:00:01\r\u001b[K     |███████████████▎                | 184kB 4.6MB/s eta 0:00:01\r\u001b[K     |████████████████▏               | 194kB 4.6MB/s eta 0:00:01\r\u001b[K     |█████████████████               | 204kB 4.6MB/s eta 0:00:01\r\u001b[K     |█████████████████▉              | 215kB 4.6MB/s eta 0:00:01\r\u001b[K     |██████████████████▊             | 225kB 4.6MB/s eta 0:00:01\r\u001b[K     |███████████████████▌            | 235kB 4.6MB/s eta 0:00:01\r\u001b[K     |████████████████████▍           | 245kB 4.6MB/s eta 0:00:01\r\u001b[K     |█████████████████████▎          | 256kB 4.6MB/s eta 0:00:01\r\u001b[K     |██████████████████████          | 266kB 4.6MB/s eta 0:00:01\r\u001b[K     |███████████████████████         | 276kB 4.6MB/s eta 0:00:01\r\u001b[K     |███████████████████████▉        | 286kB 4.6MB/s eta 0:00:01\r\u001b[K     |████████████████████████▋       | 296kB 4.6MB/s eta 0:00:01\r\u001b[K     |█████████████████████████▌      | 307kB 4.6MB/s eta 0:00:01\r\u001b[K     |██████████████████████████▎     | 317kB 4.6MB/s eta 0:00:01\r\u001b[K     |███████████████████████████▏    | 327kB 4.6MB/s eta 0:00:01\r\u001b[K     |████████████████████████████    | 337kB 4.6MB/s eta 0:00:01\r\u001b[K     |████████████████████████████▉   | 348kB 4.6MB/s eta 0:00:01\r\u001b[K     |█████████████████████████████▊  | 358kB 4.6MB/s eta 0:00:01\r\u001b[K     |██████████████████████████████▋ | 368kB 4.6MB/s eta 0:00:01\r\u001b[K     |███████████████████████████████▍| 378kB 4.6MB/s eta 0:00:01\r\u001b[K     |████████████████████████████████| 389kB 4.6MB/s \n",
            "\u001b[?25hRequirement already satisfied: scipy>=1.0 in /usr/local/lib/python3.6/dist-packages (from lifelines) (1.3.3)\n",
            "Requirement already satisfied: pandas>=0.23.0 in /usr/local/lib/python3.6/dist-packages (from lifelines) (0.25.3)\n",
            "Requirement already satisfied: numpy>=1.14.0 in /usr/local/lib/python3.6/dist-packages (from lifelines) (1.17.4)\n",
            "Requirement already satisfied: autograd>=1.3 in /usr/local/lib/python3.6/dist-packages (from lifelines) (1.3)\n",
            "Collecting autograd-gamma>=0.3\n",
            "  Downloading https://files.pythonhosted.org/packages/3e/87/788c4bf90cc5c534cb3b7fdb5b719175e33e2658decce75e35e2ce69766f/autograd_gamma-0.4.1-py2.py3-none-any.whl\n",
            "Requirement already satisfied: matplotlib>=3.0 in /usr/local/lib/python3.6/dist-packages (from lifelines) (3.1.2)\n",
            "Requirement already satisfied: python-dateutil>=2.6.1 in /usr/local/lib/python3.6/dist-packages (from pandas>=0.23.0->lifelines) (2.6.1)\n",
            "Requirement already satisfied: pytz>=2017.2 in /usr/local/lib/python3.6/dist-packages (from pandas>=0.23.0->lifelines) (2018.9)\n",
            "Requirement already satisfied: future>=0.15.2 in /usr/local/lib/python3.6/dist-packages (from autograd>=1.3->lifelines) (0.16.0)\n",
            "Requirement already satisfied: pyparsing!=2.0.4,!=2.1.2,!=2.1.6,>=2.0.1 in /usr/local/lib/python3.6/dist-packages (from matplotlib>=3.0->lifelines) (2.4.5)\n",
            "Requirement already satisfied: cycler>=0.10 in /usr/local/lib/python3.6/dist-packages (from matplotlib>=3.0->lifelines) (0.10.0)\n",
            "Requirement already satisfied: kiwisolver>=1.0.1 in /usr/local/lib/python3.6/dist-packages (from matplotlib>=3.0->lifelines) (1.1.0)\n",
            "Requirement already satisfied: six>=1.5 in /usr/local/lib/python3.6/dist-packages (from python-dateutil>=2.6.1->pandas>=0.23.0->lifelines) (1.12.0)\n",
            "Requirement already satisfied: setuptools in /usr/local/lib/python3.6/dist-packages (from kiwisolver>=1.0.1->matplotlib>=3.0->lifelines) (42.0.2)\n",
            "Installing collected packages: autograd-gamma, lifelines\n",
            "Successfully installed autograd-gamma-0.4.1 lifelines-0.23.3\n"
          ],
          "name": "stdout"
        }
      ]
    },
    {
      "cell_type": "code",
      "metadata": {
        "id": "BEPSiNWrYbC9",
        "colab_type": "code",
        "cellView": "form",
        "outputId": "7241397e-78c1-4589-eeb6-9fbddb1d54b3",
        "colab": {
          "base_uri": "https://localhost:8080/",
          "height": 127
        }
      },
      "source": [
        "#@title Mount Google Drive (You don't need to run this if you are running notebooks on your laptop)\n",
        "\n",
        "from google.colab import drive\n",
        "\n",
        "# The following command will prompt a URL for you to click and obtain the\n",
        "# authorization code\n",
        "\n",
        "drive.mount(\"/content/drive\")"
      ],
      "execution_count": 0,
      "outputs": [
        {
          "output_type": "stream",
          "text": [
            "Go to this URL in a browser: https://accounts.google.com/o/oauth2/auth?client_id=947318989803-6bn6qk8qdgf4n4g3pfee6491hc0brc4i.apps.googleusercontent.com&redirect_uri=urn%3aietf%3awg%3aoauth%3a2.0%3aoob&response_type=code&scope=email%20https%3a%2f%2fwww.googleapis.com%2fauth%2fdocs.test%20https%3a%2f%2fwww.googleapis.com%2fauth%2fdrive%20https%3a%2f%2fwww.googleapis.com%2fauth%2fdrive.photos.readonly%20https%3a%2f%2fwww.googleapis.com%2fauth%2fpeopleapi.readonly\n",
            "\n",
            "Enter your authorization code:\n",
            "··········\n",
            "Mounted at /content/drive\n"
          ],
          "name": "stdout"
        }
      ]
    },
    {
      "cell_type": "code",
      "metadata": {
        "id": "LBedPpuuvIDR",
        "colab_type": "code",
        "colab": {}
      },
      "source": [
        "#read the sPTD, PPROM,control data from csv file\n",
        "import pandas as pd\n",
        "\n",
        "\n",
        "#First part for data pre-process\n",
        "#PPROM=pd.read_csv(\"/content/drive/My Drive/genomic_project/disease_data_PPROM.csv\", sep=\",\",index_col=0)\n",
        "sPTD=pd.read_csv(\"/content/drive/My Drive/genomic_project/disease_data_sPTD.csv\", sep=\",\",index_col=0)\n",
        "control = pd.read_csv(\"/content/drive/My Drive/genomic_project/control_data_sPTD.csv\", sep=\",\",index_col=0)\n",
        "X_test_s=pd.read_csv(\"/content/drive/My Drive/genomic_project/test_set_data_sPTD.csv\", sep=\",\",index_col=0)\n",
        "\n"
      ],
      "execution_count": 0,
      "outputs": []
    },
    {
      "cell_type": "code",
      "metadata": {
        "id": "lo6f9B6rUirL",
        "colab_type": "code",
        "outputId": "ccea2a1a-d865-4eb3-97e4-fd91c9c311fb",
        "colab": {
          "base_uri": "https://localhost:8080/",
          "height": 295
        }
      },
      "source": [
        "import matplotlib.pyplot as plt\n",
        "from Bio.Cluster import kcluster\n",
        "# find the best k point for k cluster \n",
        "error =[]\n",
        "sPTD_arr=pd.DataFrame.to_numpy(sPTD)\n",
        "for i in range(1,6):\n",
        "  clusterid,e,_= kcluster(sPTD_arr,nclusters=i)\n",
        "  error.append(e)\n",
        "plt.plot(error)\n",
        "plt.xlabel('Number of cluster ')\n",
        "plt.ylabel('Distance Error')\n",
        "plt.title('Error with the cluster number (sPTD) ')\n",
        "\n",
        "plt.show()"
      ],
      "execution_count": 0,
      "outputs": [
        {
          "output_type": "display_data",
          "data": {
            "image/png": "[encoded data removed]",
            "text/plain": [
              "<Figure size 432x288 with 1 Axes>"
            ]
          },
          "metadata": {
            "tags": []
          }
        }
      ]
    },
    {
      "cell_type": "code",
      "metadata": {
        "id": "Lt6liWzxU7eh",
        "colab_type": "code",
        "outputId": "63eb3e8a-b587-44f5-aaa9-439697c38830",
        "colab": {
          "base_uri": "https://localhost:8080/",
          "height": 295
        }
      },
      "source": [
        "from sklearn.cluster import KMeans\n",
        "from sklearn.decomposition import PCA\n",
        "import pandas as pd\n",
        "import numpy as np\n",
        "import matplotlib.pyplot as plt\n",
        " \n",
        "\n",
        "df1=sPTD.copy()\n",
        "\n",
        "df1['jllable']=clusterid\n",
        "df_count_type=df1.groupby('jllable').apply(np.size)\n",
        " \n",
        "\n",
        "new_df=df1\n",
        "new_df\n",
        "\n",
        " \n",
        "##decrease the dimension of the kcluster\n",
        "pca = PCA(n_components=2)\n",
        "new_pca = pd.DataFrame(pca.fit_transform(new_df))\n",
        " \n",
        "#Data visualzation\n",
        "new_pca\n",
        "new_df.index=range(100)\n",
        "d = new_pca.loc[new_df['jllable'] == 0]\n",
        "plt.scatter(d[0], d[1], c='r')\n",
        "d = new_pca[new_df['jllable'] == 1]\n",
        "plt.scatter(d[0], d[1],c='m')\n",
        "d = new_pca[new_df['jllable'] == 2]\n",
        "plt.scatter(d[0], d[1],c='b')\n",
        "d = new_pca[new_df['jllable'] == 3]\n",
        "plt.scatter(d[0], d[1],c='y')\n",
        "d = new_pca[new_df['jllable'] == 4]\n",
        "plt.scatter(d[0], d[1],c='g')\n",
        "\n",
        "plt.xlabel('PCA1')\n",
        "plt.ylabel('PCA2')\n",
        "plt.title('clusters')\n",
        "\n",
        "plt.show()\n",
        "plt.show()\n",
        "\n",
        "#\n"
      ],
      "execution_count": 0,
      "outputs": [
        {
          "output_type": "display_data",
          "data": {
            "image/png": "[encoded data removed]",
            "text/plain": [
              "<Figure size 432x288 with 1 Axes>"
            ]
          },
          "metadata": {
            "tags": []
          }
        }
      ]
    },
    {
      "cell_type": "code",
      "metadata": {
        "id": "RhigLsFYI9fV",
        "colab_type": "code",
        "outputId": "95b6eefd-8145-4842-ecdc-ed90c86508a4",
        "colab": {
          "base_uri": "https://localhost:8080/",
          "height": 107
        }
      },
      "source": [
        "clusterid"
      ],
      "execution_count": 0,
      "outputs": [
        {
          "output_type": "execute_result",
          "data": {
            "text/plain": [
              "array([1, 3, 1, 1, 2, 2, 3, 4, 1, 0, 2, 3, 2, 2, 1, 1, 4, 1, 3, 4, 4, 3,\n",
              "       4, 2, 2, 4, 1, 4, 1, 3, 0, 4, 2, 2, 2, 3, 1, 3, 2, 2, 1, 2, 4, 2,\n",
              "       3, 1, 4, 1, 1, 3, 3, 1, 4, 2, 2, 3, 4, 3, 4, 4, 4, 1, 4, 2, 1, 2,\n",
              "       2, 1, 1, 2, 0, 2, 3, 1, 3, 2, 4, 0, 1, 2, 0, 0, 2, 4, 3, 4, 2, 4,\n",
              "       3, 1, 4, 2, 2, 0, 3, 1, 4, 2, 3, 2], dtype=int32)"
            ]
          },
          "metadata": {
            "tags": []
          },
          "execution_count": 7
        }
      ]
    },
    {
      "cell_type": "code",
      "metadata": {
        "id": "gOVpfiRPQqSE",
        "colab_type": "code",
        "colab": {}
      },
      "source": [
        "#classfiy the gene into the 10 clusters\n",
        "s=[]\n",
        "c=[]\n",
        "t=[]\n",
        "import pandas as pd\n",
        "from pandas.core.frame import DataFrame\n",
        "for i in range(10):\n",
        "  s.append(sPTD[clusterid==i].mean(axis=0))\n",
        "  c.append(control[clusterid==i].mean(axis=0))\n",
        "  t.append(X_test_s[clusterid==i].mean(axis=0))\n",
        "sPTD=DataFrame(s)\n",
        "control=DataFrame(c)\n",
        "X_test_s=DataFrame(t)"
      ],
      "execution_count": 0,
      "outputs": []
    },
    {
      "cell_type": "code",
      "metadata": {
        "id": "J00SmpbUQcEM",
        "colab_type": "code",
        "colab": {}
      },
      "source": [
        "control=control.transpose()\n",
        "#PPROM=PPROM.transpose()\n",
        "sPTD=sPTD.transpose()\n",
        "#X_test_p=X_test_p.transpose()\n",
        "X_test_s=X_test_s.transpose()"
      ],
      "execution_count": 0,
      "outputs": []
    },
    {
      "cell_type": "code",
      "metadata": {
        "id": "5t-sYZ-wSKGO",
        "colab_type": "code",
        "colab": {}
      },
      "source": [
        "#label the positive and negative samples \n",
        "sPTD[\"label\"]=1\n",
        "control_s=control#[:len(sPTD)]\n",
        "control_s[\"label\"]=0\n",
        "\n",
        "b=pd.concat([sPTD,control_s])\n",
        "#oversampling if needs\n",
        "#b=pd.concat([sPTD,b])\n",
        "#b=pd.concat([sPTD,b])"
      ],
      "execution_count": 0,
      "outputs": []
    },
    {
      "cell_type": "code",
      "metadata": {
        "id": "GMz-bjPGdU6c",
        "colab_type": "code",
        "outputId": "2aa27031-003c-4318-bca5-e50a204fbc33",
        "colab": {
          "base_uri": "https://localhost:8080/",
          "height": 435
        }
      },
      "source": [
        "b"
      ],
      "execution_count": 0,
      "outputs": [
        {
          "output_type": "execute_result",
          "data": {
            "text/html": [
              "<div>\n",
              "<style scoped>\n",
              "    .dataframe tbody tr th:only-of-type {\n",
              "        vertical-align: middle;\n",
              "    }\n",
              "\n",
              "    .dataframe tbody tr th {\n",
              "        vertical-align: top;\n",
              "    }\n",
              "\n",
              "    .dataframe thead th {\n",
              "        text-align: right;\n",
              "    }\n",
              "</style>\n",
              "<table border=\"1\" class=\"dataframe\">\n",
              "  <thead>\n",
              "    <tr style=\"text-align: right;\">\n",
              "      <th></th>\n",
              "      <th>0</th>\n",
              "      <th>1</th>\n",
              "      <th>2</th>\n",
              "      <th>3</th>\n",
              "      <th>4</th>\n",
              "      <th>5</th>\n",
              "      <th>6</th>\n",
              "      <th>7</th>\n",
              "      <th>8</th>\n",
              "      <th>9</th>\n",
              "      <th>label</th>\n",
              "    </tr>\n",
              "  </thead>\n",
              "  <tbody>\n",
              "    <tr>\n",
              "      <th>GSM1437845</th>\n",
              "      <td>2.257722</td>\n",
              "      <td>7.114099</td>\n",
              "      <td>9.352295</td>\n",
              "      <td>8.020048</td>\n",
              "      <td>8.171473</td>\n",
              "      <td>11.766608</td>\n",
              "      <td>3.549757</td>\n",
              "      <td>5.821242</td>\n",
              "      <td>6.268804</td>\n",
              "      <td>7.822197</td>\n",
              "      <td>1</td>\n",
              "    </tr>\n",
              "    <tr>\n",
              "      <th>GSM1437886</th>\n",
              "      <td>2.440755</td>\n",
              "      <td>4.781217</td>\n",
              "      <td>9.666263</td>\n",
              "      <td>7.876274</td>\n",
              "      <td>8.541619</td>\n",
              "      <td>11.834922</td>\n",
              "      <td>3.945036</td>\n",
              "      <td>5.719079</td>\n",
              "      <td>6.425729</td>\n",
              "      <td>8.334376</td>\n",
              "      <td>1</td>\n",
              "    </tr>\n",
              "    <tr>\n",
              "      <th>GSM1437894</th>\n",
              "      <td>5.078132</td>\n",
              "      <td>6.780830</td>\n",
              "      <td>9.902271</td>\n",
              "      <td>7.264648</td>\n",
              "      <td>7.738341</td>\n",
              "      <td>12.711094</td>\n",
              "      <td>3.224495</td>\n",
              "      <td>6.059747</td>\n",
              "      <td>6.551519</td>\n",
              "      <td>7.247577</td>\n",
              "      <td>1</td>\n",
              "    </tr>\n",
              "    <tr>\n",
              "      <th>GSM1437898</th>\n",
              "      <td>2.348175</td>\n",
              "      <td>6.671888</td>\n",
              "      <td>9.923135</td>\n",
              "      <td>8.296299</td>\n",
              "      <td>7.893273</td>\n",
              "      <td>11.746613</td>\n",
              "      <td>3.672716</td>\n",
              "      <td>3.690297</td>\n",
              "      <td>6.858636</td>\n",
              "      <td>7.730115</td>\n",
              "      <td>1</td>\n",
              "    </tr>\n",
              "    <tr>\n",
              "      <th>GSM1437908</th>\n",
              "      <td>2.413334</td>\n",
              "      <td>6.589952</td>\n",
              "      <td>9.102571</td>\n",
              "      <td>7.063113</td>\n",
              "      <td>7.903485</td>\n",
              "      <td>12.486332</td>\n",
              "      <td>3.325473</td>\n",
              "      <td>5.573027</td>\n",
              "      <td>7.010863</td>\n",
              "      <td>7.052345</td>\n",
              "      <td>1</td>\n",
              "    </tr>\n",
              "    <tr>\n",
              "      <th>...</th>\n",
              "      <td>...</td>\n",
              "      <td>...</td>\n",
              "      <td>...</td>\n",
              "      <td>...</td>\n",
              "      <td>...</td>\n",
              "      <td>...</td>\n",
              "      <td>...</td>\n",
              "      <td>...</td>\n",
              "      <td>...</td>\n",
              "      <td>...</td>\n",
              "      <td>...</td>\n",
              "    </tr>\n",
              "    <tr>\n",
              "      <th>Tarca_255_P3G08</th>\n",
              "      <td>2.624726</td>\n",
              "      <td>6.002704</td>\n",
              "      <td>9.231155</td>\n",
              "      <td>8.227279</td>\n",
              "      <td>7.286006</td>\n",
              "      <td>11.974334</td>\n",
              "      <td>3.703699</td>\n",
              "      <td>5.938395</td>\n",
              "      <td>7.004945</td>\n",
              "      <td>7.427245</td>\n",
              "      <td>0</td>\n",
              "    </tr>\n",
              "    <tr>\n",
              "      <th>Tarca_252_P3D08</th>\n",
              "      <td>2.423321</td>\n",
              "      <td>6.682267</td>\n",
              "      <td>9.456083</td>\n",
              "      <td>8.402426</td>\n",
              "      <td>6.542111</td>\n",
              "      <td>12.028219</td>\n",
              "      <td>3.537836</td>\n",
              "      <td>5.361287</td>\n",
              "      <td>6.653999</td>\n",
              "      <td>7.543578</td>\n",
              "      <td>0</td>\n",
              "    </tr>\n",
              "    <tr>\n",
              "      <th>Tarca_542_P6F08</th>\n",
              "      <td>2.254792</td>\n",
              "      <td>6.033776</td>\n",
              "      <td>8.625361</td>\n",
              "      <td>7.258136</td>\n",
              "      <td>8.759978</td>\n",
              "      <td>12.594476</td>\n",
              "      <td>3.529507</td>\n",
              "      <td>5.734697</td>\n",
              "      <td>6.467805</td>\n",
              "      <td>7.303670</td>\n",
              "      <td>0</td>\n",
              "    </tr>\n",
              "    <tr>\n",
              "      <th>Tarca_566_P6F11</th>\n",
              "      <td>2.467564</td>\n",
              "      <td>6.856813</td>\n",
              "      <td>9.334507</td>\n",
              "      <td>7.546269</td>\n",
              "      <td>7.692380</td>\n",
              "      <td>12.788535</td>\n",
              "      <td>3.611561</td>\n",
              "      <td>5.851847</td>\n",
              "      <td>6.547349</td>\n",
              "      <td>6.948767</td>\n",
              "      <td>0</td>\n",
              "    </tr>\n",
              "    <tr>\n",
              "      <th>Tarca_557_P6E10</th>\n",
              "      <td>2.313015</td>\n",
              "      <td>7.245208</td>\n",
              "      <td>9.487529</td>\n",
              "      <td>8.133472</td>\n",
              "      <td>7.234884</td>\n",
              "      <td>12.609443</td>\n",
              "      <td>3.654107</td>\n",
              "      <td>5.738734</td>\n",
              "      <td>6.184171</td>\n",
              "      <td>7.611205</td>\n",
              "      <td>0</td>\n",
              "    </tr>\n",
              "  </tbody>\n",
              "</table>\n",
              "<p>205 rows × 11 columns</p>\n",
              "</div>"
            ],
            "text/plain": [
              "                        0         1         2  ...         8         9  label\n",
              "GSM1437845       2.257722  7.114099  9.352295  ...  6.268804  7.822197      1\n",
              "GSM1437886       2.440755  4.781217  9.666263  ...  6.425729  8.334376      1\n",
              "GSM1437894       5.078132  6.780830  9.902271  ...  6.551519  7.247577      1\n",
              "GSM1437898       2.348175  6.671888  9.923135  ...  6.858636  7.730115      1\n",
              "GSM1437908       2.413334  6.589952  9.102571  ...  7.010863  7.052345      1\n",
              "...                   ...       ...       ...  ...       ...       ...    ...\n",
              "Tarca_255_P3G08  2.624726  6.002704  9.231155  ...  7.004945  7.427245      0\n",
              "Tarca_252_P3D08  2.423321  6.682267  9.456083  ...  6.653999  7.543578      0\n",
              "Tarca_542_P6F08  2.254792  6.033776  8.625361  ...  6.467805  7.303670      0\n",
              "Tarca_566_P6F11  2.467564  6.856813  9.334507  ...  6.547349  6.948767      0\n",
              "Tarca_557_P6E10  2.313015  7.245208  9.487529  ...  6.184171  7.611205      0\n",
              "\n",
              "[205 rows x 11 columns]"
            ]
          },
          "metadata": {
            "tags": []
          },
          "execution_count": 44
        }
      ]
    },
    {
      "cell_type": "code",
      "metadata": {
        "id": "ZBvZsvXSMWUv",
        "colab_type": "code",
        "colab": {}
      },
      "source": [
        "#reshuffle the data\n",
        "from sklearn.utils import shuffle\n",
        "df = shuffle(b)\n",
        "data=df[df.columns[:-1]]\n",
        "arget=df[\"label\"]\n"
      ],
      "execution_count": 0,
      "outputs": []
    },
    {
      "cell_type": "code",
      "metadata": {
        "id": "U1EwAEVcsBkX",
        "colab_type": "code",
        "outputId": "c22bd2b0-89aa-483b-d844-7e992d09eb87",
        "colab": {
          "base_uri": "https://localhost:8080/",
          "height": 199
        }
      },
      "source": [
        "from sklearn.ensemble import RandomForestClassifier\n",
        "import numpy as np\n",
        "import matplotlib.pyplot as plt\n",
        "from sklearn.model_selection import train_test_split\n",
        "from sklearn.metrics import roc_curve, auc\n",
        "from sklearn import svm\n",
        "#Second part for build and train the random forest model\n",
        "\n",
        "data, X_test, arget, y_test = train_test_split(data, arget, test_size=0.2, random_state=7)\n",
        "\n",
        "rf=RandomForestClassifier()\n",
        "\"\"\"rf=svm.SVC(C=1.0, cache_size=200, class_weight=None, coef0=0.0,\n",
        "    decision_function_shape='ovr', degree=3, gamma='scale', kernel='rbf',\n",
        "    max_iter=-1, probability=True, random_state=None, shrinking=True,\n",
        "    tol=0.001, verbose=False)\"\"\"\n",
        "rf.fit(data,arget)\n",
        "\n",
        "\n"
      ],
      "execution_count": 0,
      "outputs": [
        {
          "output_type": "stream",
          "text": [
            "/usr/local/lib/python3.6/dist-packages/sklearn/ensemble/forest.py:245: FutureWarning: The default value of n_estimators will change from 10 in version 0.20 to 100 in 0.22.\n",
            "  \"10 in version 0.20 to 100 in 0.22.\", FutureWarning)\n"
          ],
          "name": "stderr"
        },
        {
          "output_type": "execute_result",
          "data": {
            "text/plain": [
              "RandomForestClassifier(bootstrap=True, class_weight=None, criterion='gini',\n",
              "                       max_depth=None, max_features='auto', max_leaf_nodes=None,\n",
              "                       min_impurity_decrease=0.0, min_impurity_split=None,\n",
              "                       min_samples_leaf=1, min_samples_split=2,\n",
              "                       min_weight_fraction_leaf=0.0, n_estimators=10,\n",
              "                       n_jobs=None, oob_score=False, random_state=None,\n",
              "                       verbose=0, warm_start=False)"
            ]
          },
          "metadata": {
            "tags": []
          },
          "execution_count": 58
        }
      ]
    },
    {
      "cell_type": "code",
      "metadata": {
        "id": "GGwnCuORpLlY",
        "colab_type": "code",
        "colab": {}
      },
      "source": [
        "#cross valdation\n",
        "from sklearn.model_selection import cross_val_score\n",
        "np.mean(cross_val_score(rf, data, arget, cv=10))"
      ],
      "execution_count": 0,
      "outputs": []
    },
    {
      "cell_type": "code",
      "metadata": {
        "id": "fMvsPthBs8NN",
        "colab_type": "code",
        "outputId": "4a76e87d-e1da-4e26-f307-a62ae22d7ba0",
        "colab": {
          "base_uri": "https://localhost:8080/",
          "height": 435
        }
      },
      "source": [
        "X_test_s"
      ],
      "execution_count": 0,
      "outputs": [
        {
          "output_type": "execute_result",
          "data": {
            "text/html": [
              "<div>\n",
              "<style scoped>\n",
              "    .dataframe tbody tr th:only-of-type {\n",
              "        vertical-align: middle;\n",
              "    }\n",
              "\n",
              "    .dataframe tbody tr th {\n",
              "        vertical-align: top;\n",
              "    }\n",
              "\n",
              "    .dataframe thead th {\n",
              "        text-align: right;\n",
              "    }\n",
              "</style>\n",
              "<table border=\"1\" class=\"dataframe\">\n",
              "  <thead>\n",
              "    <tr style=\"text-align: right;\">\n",
              "      <th></th>\n",
              "      <th>0</th>\n",
              "      <th>1</th>\n",
              "      <th>2</th>\n",
              "      <th>3</th>\n",
              "      <th>4</th>\n",
              "      <th>5</th>\n",
              "      <th>6</th>\n",
              "      <th>7</th>\n",
              "      <th>8</th>\n",
              "      <th>9</th>\n",
              "    </tr>\n",
              "  </thead>\n",
              "  <tbody>\n",
              "    <tr>\n",
              "      <th>Tarca_313_P4A04</th>\n",
              "      <td>2.411796</td>\n",
              "      <td>6.673247</td>\n",
              "      <td>9.816366</td>\n",
              "      <td>7.751050</td>\n",
              "      <td>6.526359</td>\n",
              "      <td>12.683635</td>\n",
              "      <td>3.560103</td>\n",
              "      <td>5.782949</td>\n",
              "      <td>7.097326</td>\n",
              "      <td>7.531526</td>\n",
              "    </tr>\n",
              "    <tr>\n",
              "      <th>Tarca_317_P4E04</th>\n",
              "      <td>2.359306</td>\n",
              "      <td>7.489131</td>\n",
              "      <td>9.908140</td>\n",
              "      <td>7.918931</td>\n",
              "      <td>6.376015</td>\n",
              "      <td>13.029704</td>\n",
              "      <td>3.564815</td>\n",
              "      <td>6.112945</td>\n",
              "      <td>5.955634</td>\n",
              "      <td>7.383830</td>\n",
              "    </tr>\n",
              "    <tr>\n",
              "      <th>Tarca_378_P4B12</th>\n",
              "      <td>2.418504</td>\n",
              "      <td>6.813163</td>\n",
              "      <td>9.819965</td>\n",
              "      <td>7.681770</td>\n",
              "      <td>7.238820</td>\n",
              "      <td>12.787379</td>\n",
              "      <td>3.516556</td>\n",
              "      <td>5.841136</td>\n",
              "      <td>6.685201</td>\n",
              "      <td>7.591622</td>\n",
              "    </tr>\n",
              "    <tr>\n",
              "      <th>Tarca_855_P8G11</th>\n",
              "      <td>2.381308</td>\n",
              "      <td>6.819695</td>\n",
              "      <td>9.421446</td>\n",
              "      <td>8.869637</td>\n",
              "      <td>6.967648</td>\n",
              "      <td>11.677930</td>\n",
              "      <td>3.639303</td>\n",
              "      <td>5.527086</td>\n",
              "      <td>6.605542</td>\n",
              "      <td>7.489124</td>\n",
              "    </tr>\n",
              "    <tr>\n",
              "      <th>Tarca_828_P9D08</th>\n",
              "      <td>2.347232</td>\n",
              "      <td>6.164798</td>\n",
              "      <td>9.168180</td>\n",
              "      <td>8.509706</td>\n",
              "      <td>7.852173</td>\n",
              "      <td>11.898076</td>\n",
              "      <td>3.523170</td>\n",
              "      <td>5.542234</td>\n",
              "      <td>6.869134</td>\n",
              "      <td>7.902509</td>\n",
              "    </tr>\n",
              "    <tr>\n",
              "      <th>...</th>\n",
              "      <td>...</td>\n",
              "      <td>...</td>\n",
              "      <td>...</td>\n",
              "      <td>...</td>\n",
              "      <td>...</td>\n",
              "      <td>...</td>\n",
              "      <td>...</td>\n",
              "      <td>...</td>\n",
              "      <td>...</td>\n",
              "      <td>...</td>\n",
              "    </tr>\n",
              "    <tr>\n",
              "      <th>Tarca_489_P6A02</th>\n",
              "      <td>2.355998</td>\n",
              "      <td>5.889154</td>\n",
              "      <td>9.676690</td>\n",
              "      <td>7.926519</td>\n",
              "      <td>6.209656</td>\n",
              "      <td>11.771689</td>\n",
              "      <td>3.597852</td>\n",
              "      <td>5.844219</td>\n",
              "      <td>7.362168</td>\n",
              "      <td>8.002264</td>\n",
              "    </tr>\n",
              "    <tr>\n",
              "      <th>Tarca_505_P6A04</th>\n",
              "      <td>2.419254</td>\n",
              "      <td>5.915857</td>\n",
              "      <td>9.255852</td>\n",
              "      <td>8.658728</td>\n",
              "      <td>6.376493</td>\n",
              "      <td>11.554936</td>\n",
              "      <td>3.270586</td>\n",
              "      <td>5.887288</td>\n",
              "      <td>6.703420</td>\n",
              "      <td>8.290460</td>\n",
              "    </tr>\n",
              "    <tr>\n",
              "      <th>Tarca_529_P6A07</th>\n",
              "      <td>2.361898</td>\n",
              "      <td>6.469936</td>\n",
              "      <td>8.987759</td>\n",
              "      <td>7.677342</td>\n",
              "      <td>6.593061</td>\n",
              "      <td>11.702566</td>\n",
              "      <td>3.396105</td>\n",
              "      <td>6.041300</td>\n",
              "      <td>7.283637</td>\n",
              "      <td>8.640934</td>\n",
              "    </tr>\n",
              "    <tr>\n",
              "      <th>Tarca_008_P1A08</th>\n",
              "      <td>2.575781</td>\n",
              "      <td>5.432531</td>\n",
              "      <td>9.174657</td>\n",
              "      <td>7.569923</td>\n",
              "      <td>7.353295</td>\n",
              "      <td>12.366661</td>\n",
              "      <td>3.916896</td>\n",
              "      <td>5.692568</td>\n",
              "      <td>6.804290</td>\n",
              "      <td>6.578480</td>\n",
              "    </tr>\n",
              "    <tr>\n",
              "      <th>Tarca_091_P1H07</th>\n",
              "      <td>2.460025</td>\n",
              "      <td>5.580536</td>\n",
              "      <td>9.349009</td>\n",
              "      <td>7.490425</td>\n",
              "      <td>7.304679</td>\n",
              "      <td>12.180492</td>\n",
              "      <td>3.497539</td>\n",
              "      <td>5.555654</td>\n",
              "      <td>6.823571</td>\n",
              "      <td>7.622791</td>\n",
              "    </tr>\n",
              "  </tbody>\n",
              "</table>\n",
              "<p>304 rows × 10 columns</p>\n",
              "</div>"
            ],
            "text/plain": [
              "                        0         1         2  ...         7         8         9\n",
              "Tarca_313_P4A04  2.411796  6.673247  9.816366  ...  5.782949  7.097326  7.531526\n",
              "Tarca_317_P4E04  2.359306  7.489131  9.908140  ...  6.112945  5.955634  7.383830\n",
              "Tarca_378_P4B12  2.418504  6.813163  9.819965  ...  5.841136  6.685201  7.591622\n",
              "Tarca_855_P8G11  2.381308  6.819695  9.421446  ...  5.527086  6.605542  7.489124\n",
              "Tarca_828_P9D08  2.347232  6.164798  9.168180  ...  5.542234  6.869134  7.902509\n",
              "...                   ...       ...       ...  ...       ...       ...       ...\n",
              "Tarca_489_P6A02  2.355998  5.889154  9.676690  ...  5.844219  7.362168  8.002264\n",
              "Tarca_505_P6A04  2.419254  5.915857  9.255852  ...  5.887288  6.703420  8.290460\n",
              "Tarca_529_P6A07  2.361898  6.469936  8.987759  ...  6.041300  7.283637  8.640934\n",
              "Tarca_008_P1A08  2.575781  5.432531  9.174657  ...  5.692568  6.804290  6.578480\n",
              "Tarca_091_P1H07  2.460025  5.580536  9.349009  ...  5.555654  6.823571  7.622791\n",
              "\n",
              "[304 rows x 10 columns]"
            ]
          },
          "metadata": {
            "tags": []
          },
          "execution_count": 61
        }
      ]
    },
    {
      "cell_type": "code",
      "metadata": {
        "id": "QFFrG0SphCBK",
        "colab_type": "code",
        "colab": {}
      },
      "source": [
        "#predict the result\n",
        "y_score=rf.predict(X_test_s)\n",
        "#y_score=rf.predict(data)\n",
        "#y_test=arget\n",
        "\n",
        "#save results to files\n",
        "#y= pd.DataFrame(y_score[:,1],index=X_test_s.index)\n",
        "#y.to_csv(\"/content/drive/My Drive/genomic_project/res_PPROM_1.csv\")"
      ],
      "execution_count": 0,
      "outputs": []
    },
    {
      "cell_type": "code",
      "metadata": {
        "id": "k89uO2essJM7",
        "colab_type": "code",
        "outputId": "ccccaf0f-1971-4923-deb9-e4b1abba4d3b",
        "colab": {
          "base_uri": "https://localhost:8080/",
          "height": 639
        }
      },
      "source": [
        "#For local test set, plot the ROC curve\n",
        "fpr,tpr,threshold = roc_curve(y_test, y_score) ###calculate FP,TP\n",
        "roc_auc = auc(fpr,tpr) ##auc\n",
        " \n",
        "plt.figure()\n",
        "lw = 2\n",
        "plt.figure(figsize=(10,10))\n",
        "plt.plot(fpr, tpr, \n",
        "         lw=lw, label='ROC curve (area = %0.2f)' % roc_auc) ###\n",
        "plt.plot([0, 1], [0, 1], color='navy', lw=lw, linestyle='--')\n",
        "plt.xlim([0.0, 1.0])\n",
        "plt.ylim([0.0, 1.05])\n",
        "plt.xlabel('False Positive Rate')\n",
        "plt.ylabel('True Positive Rate')\n",
        "plt.title('Receiver operating characteristic')\n",
        "plt.legend(loc=\"lower right\")\n",
        "plt.show()\n"
      ],
      "execution_count": 0,
      "outputs": [
        {
          "output_type": "display_data",
          "data": {
            "text/plain": [
              "<Figure size 432x288 with 0 Axes>"
            ]
          },
          "metadata": {
            "tags": []
          }
        },
        {
          "output_type": "display_data",
          "data": {
            "image/png": "[encoded data removed]",
            "text/plain": [
              "<Figure size 720x720 with 1 Axes>"
            ]
          },
          "metadata": {
            "tags": []
          }
        }
      ]
    },
    {
      "cell_type": "code",
      "metadata": {
        "id": "GC-LZH08YbzN",
        "colab_type": "code",
        "outputId": "219c204c-62ef-4b00-a59d-e123819ecb13",
        "colab": {
          "base_uri": "https://localhost:8080/",
          "height": 35
        }
      },
      "source": [
        "from sklearn.metrics import accuracy_score,f1_score\n",
        "accuracy_score(y_test, y_score)"
      ],
      "execution_count": 0,
      "outputs": [
        {
          "output_type": "execute_result",
          "data": {
            "text/plain": [
              "0.8048780487804879"
            ]
          },
          "metadata": {
            "tags": []
          },
          "execution_count": 67
        }
      ]
    },
    {
      "cell_type": "code",
      "metadata": {
        "id": "rGU51TENLCcy",
        "colab_type": "code",
        "outputId": "c7fe5c8e-ed61-4f62-ce32-2d00618138da",
        "colab": {
          "base_uri": "https://localhost:8080/",
          "height": 35
        }
      },
      "source": [
        "f1_score(y_test, y_score, average='weighted')  "
      ],
      "execution_count": 0,
      "outputs": [
        {
          "output_type": "execute_result",
          "data": {
            "text/plain": [
              "0.9959180952789054"
            ]
          },
          "metadata": {
            "tags": []
          },
          "execution_count": 32
        }
      ]
    },
    {
      "cell_type": "code",
      "metadata": {
        "id": "6hUPKNfo8q6Y",
        "colab_type": "code",
        "colab": {}
      },
      "source": [
        "#Third part data post-process\n",
        "import pandas as pd\n",
        "final=pd.read_csv(\"/content/drive/My Drive/genomic_project/res_2.csv\", sep=\",\")\n",
        "note=pd.read_csv(\"/content/drive/My Drive/genomic_project/anoSC2_v20_nokey.csv\", sep=\",\")\n",
        "\n",
        "n=note[note.SampleID.isin(final.SampleID)]\n",
        "WithID=pd.merge(final, n, how='left', on=[\"SampleID\"])"
      ],
      "execution_count": 0,
      "outputs": []
    },
    {
      "cell_type": "code",
      "metadata": {
        "id": "iSX70C2AcWPX",
        "colab_type": "code",
        "outputId": "0db6456b-e977-49aa-a704-91b882a69bbc",
        "colab": {
          "base_uri": "https://localhost:8080/",
          "height": 415
        }
      },
      "source": [
        "final"
      ],
      "execution_count": 0,
      "outputs": [
        {
          "output_type": "execute_result",
          "data": {
            "text/html": [
              "<div>\n",
              "<style scoped>\n",
              "    .dataframe tbody tr th:only-of-type {\n",
              "        vertical-align: middle;\n",
              "    }\n",
              "\n",
              "    .dataframe tbody tr th {\n",
              "        vertical-align: top;\n",
              "    }\n",
              "\n",
              "    .dataframe thead th {\n",
              "        text-align: right;\n",
              "    }\n",
              "</style>\n",
              "<table border=\"1\" class=\"dataframe\">\n",
              "  <thead>\n",
              "    <tr style=\"text-align: right;\">\n",
              "      <th></th>\n",
              "      <th>SampleID</th>\n",
              "      <th>PPROM</th>\n",
              "      <th>sPTD</th>\n",
              "    </tr>\n",
              "  </thead>\n",
              "  <tbody>\n",
              "    <tr>\n",
              "      <th>0</th>\n",
              "      <td>Tarca_313_P4A04</td>\n",
              "      <td>0.3</td>\n",
              "      <td>0.0</td>\n",
              "    </tr>\n",
              "    <tr>\n",
              "      <th>1</th>\n",
              "      <td>Tarca_317_P4E04</td>\n",
              "      <td>0.2</td>\n",
              "      <td>0.1</td>\n",
              "    </tr>\n",
              "    <tr>\n",
              "      <th>2</th>\n",
              "      <td>Tarca_378_P4B12</td>\n",
              "      <td>0.1</td>\n",
              "      <td>0.0</td>\n",
              "    </tr>\n",
              "    <tr>\n",
              "      <th>3</th>\n",
              "      <td>Tarca_855_P8G11</td>\n",
              "      <td>0.3</td>\n",
              "      <td>0.0</td>\n",
              "    </tr>\n",
              "    <tr>\n",
              "      <th>4</th>\n",
              "      <td>Tarca_828_P9D08</td>\n",
              "      <td>0.5</td>\n",
              "      <td>0.2</td>\n",
              "    </tr>\n",
              "    <tr>\n",
              "      <th>...</th>\n",
              "      <td>...</td>\n",
              "      <td>...</td>\n",
              "      <td>...</td>\n",
              "    </tr>\n",
              "    <tr>\n",
              "      <th>299</th>\n",
              "      <td>Tarca_489_P6A02</td>\n",
              "      <td>0.4</td>\n",
              "      <td>0.5</td>\n",
              "    </tr>\n",
              "    <tr>\n",
              "      <th>300</th>\n",
              "      <td>Tarca_505_P6A04</td>\n",
              "      <td>0.5</td>\n",
              "      <td>0.1</td>\n",
              "    </tr>\n",
              "    <tr>\n",
              "      <th>301</th>\n",
              "      <td>Tarca_529_P6A07</td>\n",
              "      <td>0.1</td>\n",
              "      <td>0.3</td>\n",
              "    </tr>\n",
              "    <tr>\n",
              "      <th>302</th>\n",
              "      <td>Tarca_008_P1A08</td>\n",
              "      <td>0.1</td>\n",
              "      <td>0.0</td>\n",
              "    </tr>\n",
              "    <tr>\n",
              "      <th>303</th>\n",
              "      <td>Tarca_091_P1H07</td>\n",
              "      <td>0.4</td>\n",
              "      <td>0.0</td>\n",
              "    </tr>\n",
              "  </tbody>\n",
              "</table>\n",
              "<p>304 rows × 3 columns</p>\n",
              "</div>"
            ],
            "text/plain": [
              "            SampleID  PPROM  sPTD\n",
              "0    Tarca_313_P4A04    0.3   0.0\n",
              "1    Tarca_317_P4E04    0.2   0.1\n",
              "2    Tarca_378_P4B12    0.1   0.0\n",
              "3    Tarca_855_P8G11    0.3   0.0\n",
              "4    Tarca_828_P9D08    0.5   0.2\n",
              "..               ...    ...   ...\n",
              "299  Tarca_489_P6A02    0.4   0.5\n",
              "300  Tarca_505_P6A04    0.5   0.1\n",
              "301  Tarca_529_P6A07    0.1   0.3\n",
              "302  Tarca_008_P1A08    0.1   0.0\n",
              "303  Tarca_091_P1H07    0.4   0.0\n",
              "\n",
              "[304 rows x 3 columns]"
            ]
          },
          "metadata": {
            "tags": []
          },
          "execution_count": 487
        }
      ]
    },
    {
      "cell_type": "code",
      "metadata": {
        "id": "6fBOzejupCcC",
        "colab_type": "code",
        "colab": {}
      },
      "source": [
        "WithID.to_csv(\"/content/drive/My Drive/genomic_project/manually_4.csv\",sep=\",\")"
      ],
      "execution_count": 0,
      "outputs": []
    },
    {
      "cell_type": "code",
      "metadata": {
        "id": "eR3bMaZ0jFcL",
        "colab_type": "code",
        "colab": {}
      },
      "source": [
        "#filter out sample which GA below 25\n",
        "GAFilter=WithID[WithID.GA>=25]"
      ],
      "execution_count": 0,
      "outputs": []
    },
    {
      "cell_type": "code",
      "metadata": {
        "id": "pEstw9EfqnwK",
        "colab_type": "code",
        "outputId": "53c4f767-ace9-49d8-81e2-48e773ad229f",
        "colab": {
          "base_uri": "https://localhost:8080/",
          "height": 35
        }
      },
      "source": [
        "[19748,20243,19709,22546] #for these individual there is no sample when GA>25"
      ],
      "execution_count": 0,
      "outputs": [
        {
          "output_type": "execute_result",
          "data": {
            "text/plain": [
              "[19748, 20243, 19709, 22546]"
            ]
          },
          "metadata": {
            "tags": []
          },
          "execution_count": 491
        }
      ]
    },
    {
      "cell_type": "code",
      "metadata": {
        "id": "p2DBQ8incUmz",
        "colab_type": "code",
        "colab": {}
      },
      "source": [
        "sPTD_GA=GAFilter[[\"IndividualID\",\"sPTD\"]]\n",
        "PPROM_GA=GAFilter[[\"IndividualID\",\"PPROM\"]]"
      ],
      "execution_count": 0,
      "outputs": []
    },
    {
      "cell_type": "code",
      "metadata": {
        "id": "jAuYX9d2o0jv",
        "colab_type": "code",
        "colab": {}
      },
      "source": [
        "#get the average smaple probablity  for each individual when GA>25\n",
        "sPTD_res=sPTD_GA.groupby(['IndividualID'], sort=False)['sPTD'].mean()"
      ],
      "execution_count": 0,
      "outputs": []
    },
    {
      "cell_type": "code",
      "metadata": {
        "id": "A-vNe5rs-Ajy",
        "colab_type": "code",
        "colab": {}
      },
      "source": [
        "#get the average smaple probablity for each individual when GA>25\n",
        "PPROM_res=PPROM_GA.groupby(['IndividualID'], sort=False)['PPROM'].mean()"
      ],
      "execution_count": 0,
      "outputs": []
    },
    {
      "cell_type": "code",
      "metadata": {
        "id": "m9ZEvFxz-jsl",
        "colab_type": "code",
        "outputId": "7f306e87-b599-4d40-d809-8f6709fae167",
        "colab": {
          "base_uri": "https://localhost:8080/",
          "height": 251
        }
      },
      "source": [
        "PPROM_res"
      ],
      "execution_count": 0,
      "outputs": [
        {
          "output_type": "execute_result",
          "data": {
            "text/plain": [
              "IndividualID\n",
              "18275    0.250000\n",
              "18427    0.433333\n",
              "18473    0.200000\n",
              "19086    0.366667\n",
              "19217    0.333333\n",
              "           ...   \n",
              "21284    0.300000\n",
              "22117    0.500000\n",
              "22122    0.300000\n",
              "22306    0.233333\n",
              "22463    0.400000\n",
              "Name: PPROM, Length: 83, dtype: float64"
            ]
          },
          "metadata": {
            "tags": []
          },
          "execution_count": 496
        }
      ]
    },
    {
      "cell_type": "code",
      "metadata": {
        "id": "3SZ4_9MP-SsY",
        "colab_type": "code",
        "colab": {}
      },
      "source": [
        "final_res=pd.merge(sPTD_res, PPROM_res, how='left', on=[\"IndividualID\"])"
      ],
      "execution_count": 0,
      "outputs": []
    },
    {
      "cell_type": "code",
      "metadata": {
        "id": "BFudGwM8_qCF",
        "colab_type": "code",
        "outputId": "a5b125d4-06bc-49a2-85ed-946415b78232",
        "colab": {
          "base_uri": "https://localhost:8080/",
          "height": 446
        }
      },
      "source": [
        "final_res"
      ],
      "execution_count": 0,
      "outputs": [
        {
          "output_type": "execute_result",
          "data": {
            "text/html": [
              "<div>\n",
              "<style scoped>\n",
              "    .dataframe tbody tr th:only-of-type {\n",
              "        vertical-align: middle;\n",
              "    }\n",
              "\n",
              "    .dataframe tbody tr th {\n",
              "        vertical-align: top;\n",
              "    }\n",
              "\n",
              "    .dataframe thead th {\n",
              "        text-align: right;\n",
              "    }\n",
              "</style>\n",
              "<table border=\"1\" class=\"dataframe\">\n",
              "  <thead>\n",
              "    <tr style=\"text-align: right;\">\n",
              "      <th></th>\n",
              "      <th>sPTD</th>\n",
              "      <th>PPROM</th>\n",
              "    </tr>\n",
              "    <tr>\n",
              "      <th>IndividualID</th>\n",
              "      <th></th>\n",
              "      <th></th>\n",
              "    </tr>\n",
              "  </thead>\n",
              "  <tbody>\n",
              "    <tr>\n",
              "      <th>18275</th>\n",
              "      <td>0.050000</td>\n",
              "      <td>0.250000</td>\n",
              "    </tr>\n",
              "    <tr>\n",
              "      <th>18427</th>\n",
              "      <td>0.100000</td>\n",
              "      <td>0.433333</td>\n",
              "    </tr>\n",
              "    <tr>\n",
              "      <th>18473</th>\n",
              "      <td>0.100000</td>\n",
              "      <td>0.200000</td>\n",
              "    </tr>\n",
              "    <tr>\n",
              "      <th>19086</th>\n",
              "      <td>0.166667</td>\n",
              "      <td>0.366667</td>\n",
              "    </tr>\n",
              "    <tr>\n",
              "      <th>19217</th>\n",
              "      <td>0.233333</td>\n",
              "      <td>0.333333</td>\n",
              "    </tr>\n",
              "    <tr>\n",
              "      <th>...</th>\n",
              "      <td>...</td>\n",
              "      <td>...</td>\n",
              "    </tr>\n",
              "    <tr>\n",
              "      <th>21284</th>\n",
              "      <td>0.100000</td>\n",
              "      <td>0.300000</td>\n",
              "    </tr>\n",
              "    <tr>\n",
              "      <th>22117</th>\n",
              "      <td>0.500000</td>\n",
              "      <td>0.500000</td>\n",
              "    </tr>\n",
              "    <tr>\n",
              "      <th>22122</th>\n",
              "      <td>0.050000</td>\n",
              "      <td>0.300000</td>\n",
              "    </tr>\n",
              "    <tr>\n",
              "      <th>22306</th>\n",
              "      <td>0.166667</td>\n",
              "      <td>0.233333</td>\n",
              "    </tr>\n",
              "    <tr>\n",
              "      <th>22463</th>\n",
              "      <td>0.500000</td>\n",
              "      <td>0.400000</td>\n",
              "    </tr>\n",
              "  </tbody>\n",
              "</table>\n",
              "<p>83 rows × 2 columns</p>\n",
              "</div>"
            ],
            "text/plain": [
              "                  sPTD     PPROM\n",
              "IndividualID                    \n",
              "18275         0.050000  0.250000\n",
              "18427         0.100000  0.433333\n",
              "18473         0.100000  0.200000\n",
              "19086         0.166667  0.366667\n",
              "19217         0.233333  0.333333\n",
              "...                ...       ...\n",
              "21284         0.100000  0.300000\n",
              "22117         0.500000  0.500000\n",
              "22122         0.050000  0.300000\n",
              "22306         0.166667  0.233333\n",
              "22463         0.500000  0.400000\n",
              "\n",
              "[83 rows x 2 columns]"
            ]
          },
          "metadata": {
            "tags": []
          },
          "execution_count": 498
        }
      ]
    },
    {
      "cell_type": "code",
      "metadata": {
        "id": "z54-5aBDpQGR",
        "colab_type": "code",
        "colab": {}
      },
      "source": [
        "final_res.to_csv(\"/content/drive/My Drive/genomic_project/f_res_4.csv\", sep=\",\")"
      ],
      "execution_count": 0,
      "outputs": []
    },
    {
      "cell_type": "code",
      "metadata": {
        "id": "Pvl0-NtDpx4K",
        "colab_type": "code",
        "colab": {}
      },
      "source": [
        ""
      ],
      "execution_count": 0,
      "outputs": []
    }
  ]
}
